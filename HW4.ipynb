{
  "nbformat": 4,
  "nbformat_minor": 0,
  "metadata": {
    "colab": {
      "provenance": []
    },
    "kernelspec": {
      "name": "python3",
      "display_name": "Python 3"
    },
    "language_info": {
      "name": "python"
    }
  },
  "cells": [
    {
      "cell_type": "code",
      "source": [
        "from google.colab import drive\n",
        "drive.mount('/content/drive')\n"
      ],
      "metadata": {
        "colab": {
          "base_uri": "https://localhost:8080/"
        },
        "id": "vciwbLW1_kUy",
        "outputId": "c9c237d1-1e6d-4c62-d54f-878d02286288"
      },
      "execution_count": 8,
      "outputs": [
        {
          "output_type": "stream",
          "name": "stdout",
          "text": [
            "Mounted at /content/drive\n"
          ]
        }
      ]
    },
    {
      "cell_type": "code",
      "source": [
        "import collections\n",
        "import collections.abc\n",
        "collections.MutableMapping = collections.abc.MutableMapping\n"
      ],
      "metadata": {
        "id": "7fdMaP0r1y9b"
      },
      "execution_count": 9,
      "outputs": []
    },
    {
      "cell_type": "code",
      "source": [
        "# Install Magnitude on Google Colab\n",
        "! echo \"Installing Magnitude.... (please wait, can take a while)\"\n",
        "! (curl https://raw.githubusercontent.com/plasticityai/magnitude/master/install-colab.sh | /bin/bash 1>/dev/null 2>/dev/null)\n",
        "! echo \"Done installing Magnitude.\""
      ],
      "metadata": {
        "colab": {
          "base_uri": "https://localhost:8080/"
        },
        "id": "pumPBfK0jf9u",
        "outputId": "a8843b84-3e9d-4a85-842f-d0100f65bd37"
      },
      "execution_count": 10,
      "outputs": [
        {
          "output_type": "stream",
          "name": "stdout",
          "text": [
            "Installing Magnitude.... (please wait, can take a while)\n",
            "  % Total    % Received % Xferd  Average Speed   Time    Time     Time  Current\n",
            "                                 Dload  Upload   Total   Spent    Left  Speed\n",
            "100   137  100   137    0     0    525      0 --:--:-- --:--:-- --:--:--   526\n",
            "Done installing Magnitude.\n"
          ]
        }
      ]
    },
    {
      "cell_type": "code",
      "source": [
        "# Import required libraries\n",
        "from pymagnitude import *\n",
        "import numpy as np\n",
        "import matplotlib.pyplot as plt\n",
        "from sklearn.decomposition import PCA\n"
      ],
      "metadata": {
        "id": "ArbC2bpRz4wg"
      },
      "execution_count": 11,
      "outputs": []
    },
    {
      "cell_type": "code",
      "source": [
        "model = Magnitude(\"/content/drive/MyDrive/Colab Notebooks/GoogleNews-vectors-negative300.magnitude\")\n",
        "\n",
        "# Check the dimensionality of the embeddings.\n",
        "print(\"Embedding dimensionality:\", model.dim)  # Expected output: 300\n"
      ],
      "metadata": {
        "colab": {
          "base_uri": "https://localhost:8080/"
        },
        "id": "h5MBICo-0DAU",
        "outputId": "af335b4a-6773-4e4e-8404-2a9f60c8f6b5"
      },
      "execution_count": 13,
      "outputs": [
        {
          "output_type": "stream",
          "name": "stdout",
          "text": [
            "Embedding dimensionality: 300\n"
          ]
        }
      ]
    },
    {
      "cell_type": "code",
      "source": [
        "# Get the most similar words to \"picnic\".\n",
        "similar_words = model.most_similar(\"picnic\", topn=6)\n",
        "# Exclude \"picnic\" itself and keep the top 5 similar words.\n",
        "top5_picnic = [word for word, score in similar_words if word.lower() != \"picnic\"][:5]\n",
        "print(\"Top-5 similar words to 'picnic':\", top5_picnic)\n"
      ],
      "metadata": {
        "id": "CtKnbzLG3BU7",
        "colab": {
          "base_uri": "https://localhost:8080/"
        },
        "outputId": "d67cff18-c800-4848-9736-16855c70ae2c"
      },
      "execution_count": 14,
      "outputs": [
        {
          "output_type": "stream",
          "name": "stdout",
          "text": [
            "Top-5 similar words to 'picnic': ['picnics', 'picnic_lunch', 'potluck_picnic', 'picnic_supper', 'picnicking']\n"
          ]
        }
      ]
    },
    {
      "cell_type": "code",
      "source": [
        "# Define the list of words.\n",
        "words_list = ['tissue', 'papyrus', 'manila', 'newsprint', 'parchment', 'gazette']\n",
        "\n",
        "# Retrieve vectors for each word.\n",
        "vectors = np.array([model.query(word) for word in words_list])\n",
        "# Compute the mean vector.\n",
        "mean_vector = np.mean(vectors, axis=0)\n",
        "# Calculate Euclidean distances from each word's vector to the mean vector.\n",
        "distances = {word: np.linalg.norm(model.query(word) - mean_vector) for word in words_list}\n",
        "# The odd one out is the word with the largest distance.\n",
        "odd_one = max(distances, key=distances.get)\n",
        "print(\"Odd one out:\", odd_one)\n"
      ],
      "metadata": {
        "colab": {
          "base_uri": "https://localhost:8080/"
        },
        "id": "3FUPg1jQAxky",
        "outputId": "2761afcf-20f4-4d0a-c56d-c01466692c27"
      },
      "execution_count": 15,
      "outputs": [
        {
          "output_type": "stream",
          "name": "stdout",
          "text": [
            "Odd one out: tissue\n"
          ]
        }
      ]
    },
    {
      "cell_type": "code",
      "source": [
        "# Solve the analogy: leg is to jump as X is to throw.\n",
        "# Using vector arithmetic: X ≈ throw - jump + leg\n",
        "analogy_result = model.most_similar(positive=[\"throw\", \"leg\"], negative=[\"jump\"], topn=1)\n",
        "print(\"Analogy result (X):\", analogy_result[0][0])\n"
      ],
      "metadata": {
        "colab": {
          "base_uri": "https://localhost:8080/"
        },
        "id": "gzNlBhe7CUzh",
        "outputId": "7c77488d-2f1e-41e5-d153-4d0895113c18"
      },
      "execution_count": 16,
      "outputs": [
        {
          "output_type": "stream",
          "name": "stdout",
          "text": [
            "Analogy result (X): forearm\n"
          ]
        }
      ]
    },
    {
      "cell_type": "code",
      "source": [
        "# Combine words for visualization (words from the odd-one-out question and the analogy result).\n",
        "words_to_plot = words_list + [analogy_result[0][0]]\n",
        "word_vectors = np.array([model.query(word) for word in words_to_plot])\n",
        "\n",
        "# Use PCA to reduce dimensions to 2D.\n",
        "pca = PCA(n_components=2)\n",
        "reduced_vectors = pca.fit_transform(word_vectors)\n",
        "\n",
        "# Create a scatter plot of the reduced word vectors.\n",
        "plt.figure(figsize=(8, 6))\n",
        "for i, word in enumerate(words_to_plot):\n",
        "    plt.scatter(reduced_vectors[i, 0], reduced_vectors[i, 1])\n",
        "    plt.text(reduced_vectors[i, 0] + 0.01, reduced_vectors[i, 1] + 0.01, word, fontsize=12)\n",
        "plt.title(\"2D PCA Projection of Selected Word Vectors\")\n",
        "plt.xlabel(\"PCA Component 1\")\n",
        "plt.ylabel(\"PCA Component 2\")\n",
        "plt.show()\n"
      ],
      "metadata": {
        "colab": {
          "base_uri": "https://localhost:8080/",
          "height": 564
        },
        "id": "p4X5CU7UCafa",
        "outputId": "049e4353-fa98-46be-977a-2c8e9693d063"
      },
      "execution_count": 17,
      "outputs": [
        {
          "output_type": "display_data",
          "data": {
            "text/plain": [
              "<Figure size 800x600 with 1 Axes>"
            ],
            "image/png": "[encoded data removed]"
          },
          "metadata": {}
        }
      ]
    },
    {
      "cell_type": "code",
      "source": [],
      "metadata": {
        "id": "4Io6R6yyCdgN"
      },
      "execution_count": null,
      "outputs": []
    }
  ]
}